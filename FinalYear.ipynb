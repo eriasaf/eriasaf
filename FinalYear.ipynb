{
  "nbformat": 4,
  "nbformat_minor": 0,
  "metadata": {
    "colab": {
      "provenance": [],
      "authorship_tag": "ABX9TyMs7XCX1V6JQvmCcBd3FQGK",
      "include_colab_link": true
    },
    "kernelspec": {
      "name": "python3",
      "display_name": "Python 3"
    },
    "language_info": {
      "name": "python"
    }
  },
  "cells": [
    {
      "cell_type": "markdown",
      "metadata": {
        "id": "view-in-github",
        "colab_type": "text"
      },
      "source": [
        "<a href=\"https://colab.research.google.com/github/eriasaf/eriasaf/blob/main/FinalYear.ipynb\" target=\"_parent\"><img src=\"https://colab.research.google.com/assets/colab-badge.svg\" alt=\"Open In Colab\"/></a>"
      ]
    },
    {
      "cell_type": "code",
      "execution_count": null,
      "metadata": {
        "id": "ID7McNjjvZeM"
      },
      "outputs": [],
      "source": [
        "import pandas as pd\n",
        "from sklearn.model_selection import train_test_split,cross_val_predict,cross_val_score\n",
        "from sklearn.ensemble import RandomForestClassifier\n",
        "from sklearn.svm import SVC\n",
        "from sklearn.naive_bayes import GaussianNB\n",
        "from sklearn.metrics import accuracy_score\n",
        "from sklearn.preprocessing import StandardScaler\n",
        "from sklearn.metrics import classification_report\n",
        "from scipy.stats import randint, uniform"
      ]
    },
    {
      "cell_type": "code",
      "source": [
        "# Load crop yield dataset\n",
        "df2 = pd.read_csv('/content/Crop_recommendation (1).csv')"
      ],
      "metadata": {
        "id": "Y0Z70qTf8hAu"
      },
      "execution_count": 5,
      "outputs": []
    },
    {
      "cell_type": "code",
      "source": [
        "\n",
        "print(df2.columns)"
      ],
      "metadata": {
        "colab": {
          "base_uri": "https://localhost:8080/"
        },
        "id": "5TDeM7QL0clZ",
        "outputId": "99658015-0e53-49ef-965b-000bc59c2cc7"
      },
      "execution_count": 7,
      "outputs": [
        {
          "output_type": "stream",
          "name": "stdout",
          "text": [
            "Index(['N', 'P', 'K', 'temperature', 'humidity', 'ph', 'rainfall', 'crop'], dtype='object')\n"
          ]
        }
      ]
    },
    {
      "cell_type": "code",
      "source": [
        "# Drop rows with missing values\n",
        "df2.dropna(inplace=True)"
      ],
      "metadata": {
        "id": "W5Ob6ox5yyZ7"
      },
      "execution_count": 9,
      "outputs": []
    },
    {
      "cell_type": "code",
      "source": [
        "\n",
        "# Define features and target variable\n",
        "X = df2[['ph', 'N','P','K']]\n",
        "y = df2['crop']  # Target variable (crop type)"
      ],
      "metadata": {
        "id": "QaqFXDfkwHAF"
      },
      "execution_count": 10,
      "outputs": []
    },
    {
      "cell_type": "code",
      "source": [
        "# Split data into training and testing sets\n",
        "X_train, X_test, y_train, y_test = train_test_split(X, y, test_size=0.2, random_state=42)\n",
        "\n",
        "# Train Random Forest classifier\n",
        "clf = RandomForestClassifier(n_estimators=100, random_state=42)\n",
        "clf.fit(X_train, y_train)"
      ],
      "metadata": {
        "id": "18ZKmkHqwi8G",
        "colab": {
          "base_uri": "https://localhost:8080/",
          "height": 94
        },
        "outputId": "dd20e32e-c204-41dd-bcc7-ae90061ebf91"
      },
      "execution_count": 11,
      "outputs": [
        {
          "output_type": "execute_result",
          "data": {
            "text/plain": [
              "RandomForestClassifier(random_state=42)"
            ],
            "text/html": [
              "<style>#sk-container-id-1 {color: black;background-color: white;}#sk-container-id-1 pre{padding: 0;}#sk-container-id-1 div.sk-toggleable {background-color: white;}#sk-container-id-1 label.sk-toggleable__label {cursor: pointer;display: block;width: 100%;margin-bottom: 0;padding: 0.3em;box-sizing: border-box;text-align: center;}#sk-container-id-1 label.sk-toggleable__label-arrow:before {content: \"▸\";float: left;margin-right: 0.25em;color: #696969;}#sk-container-id-1 label.sk-toggleable__label-arrow:hover:before {color: black;}#sk-container-id-1 div.sk-estimator:hover label.sk-toggleable__label-arrow:before {color: black;}#sk-container-id-1 div.sk-toggleable__content {max-height: 0;max-width: 0;overflow: hidden;text-align: left;background-color: #f0f8ff;}#sk-container-id-1 div.sk-toggleable__content pre {margin: 0.2em;color: black;border-radius: 0.25em;background-color: #f0f8ff;}#sk-container-id-1 input.sk-toggleable__control:checked~div.sk-toggleable__content {max-height: 200px;max-width: 100%;overflow: auto;}#sk-container-id-1 input.sk-toggleable__control:checked~label.sk-toggleable__label-arrow:before {content: \"▾\";}#sk-container-id-1 div.sk-estimator input.sk-toggleable__control:checked~label.sk-toggleable__label {background-color: #d4ebff;}#sk-container-id-1 div.sk-label input.sk-toggleable__control:checked~label.sk-toggleable__label {background-color: #d4ebff;}#sk-container-id-1 input.sk-hidden--visually {border: 0;clip: rect(1px 1px 1px 1px);clip: rect(1px, 1px, 1px, 1px);height: 1px;margin: -1px;overflow: hidden;padding: 0;position: absolute;width: 1px;}#sk-container-id-1 div.sk-estimator {font-family: monospace;background-color: #f0f8ff;border: 1px dotted black;border-radius: 0.25em;box-sizing: border-box;margin-bottom: 0.5em;}#sk-container-id-1 div.sk-estimator:hover {background-color: #d4ebff;}#sk-container-id-1 div.sk-parallel-item::after {content: \"\";width: 100%;border-bottom: 1px solid gray;flex-grow: 1;}#sk-container-id-1 div.sk-label:hover label.sk-toggleable__label {background-color: #d4ebff;}#sk-container-id-1 div.sk-serial::before {content: \"\";position: absolute;border-left: 1px solid gray;box-sizing: border-box;top: 0;bottom: 0;left: 50%;z-index: 0;}#sk-container-id-1 div.sk-serial {display: flex;flex-direction: column;align-items: center;background-color: white;padding-right: 0.2em;padding-left: 0.2em;position: relative;}#sk-container-id-1 div.sk-item {position: relative;z-index: 1;}#sk-container-id-1 div.sk-parallel {display: flex;align-items: stretch;justify-content: center;background-color: white;position: relative;}#sk-container-id-1 div.sk-item::before, #sk-container-id-1 div.sk-parallel-item::before {content: \"\";position: absolute;border-left: 1px solid gray;box-sizing: border-box;top: 0;bottom: 0;left: 50%;z-index: -1;}#sk-container-id-1 div.sk-parallel-item {display: flex;flex-direction: column;z-index: 1;position: relative;background-color: white;}#sk-container-id-1 div.sk-parallel-item:first-child::after {align-self: flex-end;width: 50%;}#sk-container-id-1 div.sk-parallel-item:last-child::after {align-self: flex-start;width: 50%;}#sk-container-id-1 div.sk-parallel-item:only-child::after {width: 0;}#sk-container-id-1 div.sk-dashed-wrapped {border: 1px dashed gray;margin: 0 0.4em 0.5em 0.4em;box-sizing: border-box;padding-bottom: 0.4em;background-color: white;}#sk-container-id-1 div.sk-label label {font-family: monospace;font-weight: bold;display: inline-block;line-height: 1.2em;}#sk-container-id-1 div.sk-label-container {text-align: center;}#sk-container-id-1 div.sk-container {/* jupyter's `normalize.less` sets `[hidden] { display: none; }` but bootstrap.min.css set `[hidden] { display: none !important; }` so we also need the `!important` here to be able to override the default hidden behavior on the sphinx rendered scikit-learn.org. See: https://github.com/scikit-learn/scikit-learn/issues/21755 */display: inline-block !important;position: relative;}#sk-container-id-1 div.sk-text-repr-fallback {display: none;}</style><div id=\"sk-container-id-1\" class=\"sk-top-container\"><div class=\"sk-text-repr-fallback\"><pre>RandomForestClassifier(random_state=42)</pre><b>In a Jupyter environment, please rerun this cell to show the HTML representation or trust the notebook. <br />On GitHub, the HTML representation is unable to render, please try loading this page with nbviewer.org.</b></div><div class=\"sk-container\" hidden><div class=\"sk-item\"><div class=\"sk-estimator sk-toggleable\"><input class=\"sk-toggleable__control sk-hidden--visually\" id=\"sk-estimator-id-1\" type=\"checkbox\" checked><label for=\"sk-estimator-id-1\" class=\"sk-toggleable__label sk-toggleable__label-arrow\">RandomForestClassifier</label><div class=\"sk-toggleable__content\"><pre>RandomForestClassifier(random_state=42)</pre></div></div></div></div></div>"
            ]
          },
          "metadata": {},
          "execution_count": 11
        }
      ]
    },
    {
      "cell_type": "code",
      "source": [
        "\n",
        "# Make predictions\n",
        "y_pred = clf.predict(X_test)"
      ],
      "metadata": {
        "id": "oM9ACBtGwvDg"
      },
      "execution_count": 12,
      "outputs": []
    },
    {
      "cell_type": "code",
      "source": [
        "# Evaluate model\n",
        "accuracy = accuracy_score(y_test, y_pred)\n",
        "print(\"Accuracy:\", accuracy)"
      ],
      "metadata": {
        "id": "g6Doia1fwRxI",
        "colab": {
          "base_uri": "https://localhost:8080/"
        },
        "outputId": "9743e8a2-91a4-4903-83d2-24e7e5f3f10b"
      },
      "execution_count": 13,
      "outputs": [
        {
          "output_type": "stream",
          "name": "stdout",
          "text": [
            "Accuracy: 0.8045454545454546\n"
          ]
        }
      ]
    },
    {
      "cell_type": "code",
      "source": [
        "# Standardize features\n",
        "scaler = StandardScaler()\n",
        "X_train_scaled = scaler.fit_transform(X_train)\n",
        "X_test_scaled = scaler.transform(X_test)\n",
        "\n",
        "# Train Random Forest classifier\n",
        "clf = RandomForestClassifier(n_estimators=100, random_state=42)\n",
        "clf.fit(X_train_scaled, y_train)\n",
        "\n",
        "# Make predictions\n",
        "y_pred = clf.predict(X_test_scaled)\n",
        "\n",
        "# Evaluate model\n",
        "accuracy = accuracy_score(y_test, y_pred)\n",
        "print(\"Accuracy:\", accuracy)"
      ],
      "metadata": {
        "colab": {
          "base_uri": "https://localhost:8080/"
        },
        "id": "PnB0IRUecI_n",
        "outputId": "b3847e65-f40a-47e1-f7e5-337b324c9288"
      },
      "execution_count": 14,
      "outputs": [
        {
          "output_type": "stream",
          "name": "stdout",
          "text": [
            "Accuracy: 0.8068181818181818\n"
          ]
        }
      ]
    },
    {
      "cell_type": "code",
      "source": [
        "#Classification report\n",
        "print(\"\\nClassification Report:\")\n",
        "print(classification_report(y_test, y_pred))"
      ],
      "metadata": {
        "id": "otrY414Kec2C",
        "colab": {
          "base_uri": "https://localhost:8080/"
        },
        "outputId": "e7bc4c6e-e93b-4a60-ac4c-740274628507"
      },
      "execution_count": 15,
      "outputs": [
        {
          "output_type": "stream",
          "name": "stdout",
          "text": [
            "\n",
            "Classification Report:\n",
            "              precision    recall  f1-score   support\n",
            "\n",
            "       apple       0.74      0.61      0.67        23\n",
            "      banana       1.00      1.00      1.00        21\n",
            "   blackgram       0.84      0.80      0.82        20\n",
            "    chickpea       1.00      1.00      1.00        26\n",
            "     coconut       0.82      0.85      0.84        27\n",
            "      coffee       0.89      0.94      0.91        17\n",
            "      cotton       0.89      1.00      0.94        17\n",
            "      grapes       0.50      0.64      0.56        14\n",
            "        jute       0.56      0.61      0.58        23\n",
            " kidneybeans       0.79      0.95      0.86        20\n",
            "      lentil       0.44      0.73      0.55        11\n",
            "       maize       1.00      0.95      0.98        21\n",
            "       mango       0.78      0.74      0.76        19\n",
            "   mothbeans       0.95      0.75      0.84        24\n",
            "    mungbean       0.79      1.00      0.88        19\n",
            "   muskmelon       0.65      0.65      0.65        17\n",
            "      orange       1.00      1.00      1.00        14\n",
            "      papaya       1.00      1.00      1.00        23\n",
            "  pigeonpeas       0.73      0.48      0.58        23\n",
            " pomegranate       1.00      0.91      0.95        23\n",
            "        rice       0.53      0.42      0.47        19\n",
            "  watermelon       0.68      0.68      0.68        19\n",
            "\n",
            "    accuracy                           0.81       440\n",
            "   macro avg       0.80      0.81      0.80       440\n",
            "weighted avg       0.81      0.81      0.81       440\n",
            "\n"
          ]
        }
      ]
    },
    {
      "cell_type": "code",
      "source": [
        " scaler = StandardScaler()\n",
        "X_scaled = scaler.fit_transform(X)\n",
        "\n",
        "# Initialize classifiers\n",
        "rf_clf = RandomForestClassifier(n_estimators=100, random_state=42)\n",
        "svm_clf = SVC(kernel='linear')\n",
        "nb_clf = GaussianNB()\n",
        "\n",
        "# List of classifiers\n",
        "classifiers = [('Random Forest', rf_clf), ('SVM', svm_clf), ('Naive Bayes', nb_clf)]\n",
        "\n",
        "# Iterate over classifiers\n",
        "for clf_name, clf in classifiers:\n",
        "    # Perform k-fold cross-validation and obtain cross-validated predictions\n",
        "    y_pred_cv = cross_val_predict(clf, X_scaled, y, cv=5)\n",
        "\n",
        "    # Print classification report\n",
        "    print(\"\\nClassification Report for\", clf_name, \":\")\n",
        "    print(classification_report(y, y_pred_cv))"
      ],
      "metadata": {
        "colab": {
          "base_uri": "https://localhost:8080/"
        },
        "id": "zp56ZAY7gseF",
        "outputId": "9a85c4d2-b159-41e5-bd1b-ef8b6cf5a7ad"
      },
      "execution_count": null,
      "outputs": [
        {
          "output_type": "stream",
          "name": "stdout",
          "text": [
            "\n",
            "Classification Report for Random Forest :\n",
            "              precision    recall  f1-score   support\n",
            "\n",
            "       apple       0.57      0.59      0.58       100\n",
            "      banana       0.99      1.00      1.00       100\n",
            "   blackgram       0.75      0.80      0.78       100\n",
            "    chickpea       1.00      1.00      1.00       100\n",
            "     coconut       0.79      0.89      0.84       100\n",
            "      coffee       0.96      0.95      0.95       100\n",
            "      cotton       0.97      0.99      0.98       100\n",
            "      grapes       0.58      0.56      0.57       100\n",
            "        jute       0.64      0.69      0.66       100\n",
            " kidneybeans       0.76      0.94      0.84       100\n",
            "      lentil       0.56      0.60      0.58       100\n",
            "       maize       0.98      0.99      0.99       100\n",
            "       mango       0.87      0.78      0.82       100\n",
            "   mothbeans       0.88      0.81      0.84       100\n",
            "    mungbean       0.82      0.85      0.83       100\n",
            "   muskmelon       0.56      0.59      0.57       100\n",
            "      orange       1.00      1.00      1.00       100\n",
            "      papaya       1.00      0.99      0.99       100\n",
            "  pigeonpeas       0.65      0.45      0.53       100\n",
            " pomegranate       1.00      0.96      0.98       100\n",
            "        rice       0.69      0.63      0.66       100\n",
            "  watermelon       0.56      0.53      0.55       100\n",
            "\n",
            "    accuracy                           0.80      2200\n",
            "   macro avg       0.80      0.80      0.80      2200\n",
            "weighted avg       0.80      0.80      0.80      2200\n",
            "\n",
            "\n",
            "Classification Report for SVM :\n",
            "              precision    recall  f1-score   support\n",
            "\n",
            "       apple       0.55      0.60      0.57       100\n",
            "      banana       1.00      1.00      1.00       100\n",
            "   blackgram       0.63      0.71      0.67       100\n",
            "    chickpea       1.00      1.00      1.00       100\n",
            "     coconut       0.67      0.62      0.65       100\n",
            "      coffee       0.89      0.90      0.90       100\n",
            "      cotton       0.94      0.98      0.96       100\n",
            "      grapes       0.56      0.50      0.53       100\n",
            "        jute       0.55      0.66      0.60       100\n",
            " kidneybeans       0.51      0.88      0.64       100\n",
            "      lentil       0.48      0.57      0.52       100\n",
            "       maize       0.99      0.96      0.97       100\n",
            "       mango       0.56      0.70      0.62       100\n",
            "   mothbeans       0.60      0.39      0.47       100\n",
            "    mungbean       0.75      0.75      0.75       100\n",
            "   muskmelon       0.56      0.64      0.60       100\n",
            "      orange       1.00      1.00      1.00       100\n",
            "      papaya       0.96      0.96      0.96       100\n",
            "  pigeonpeas       0.32      0.07      0.11       100\n",
            " pomegranate       0.89      0.84      0.87       100\n",
            "        rice       0.61      0.47      0.53       100\n",
            "  watermelon       0.58      0.50      0.54       100\n",
            "\n",
            "    accuracy                           0.71      2200\n",
            "   macro avg       0.71      0.71      0.70      2200\n",
            "weighted avg       0.71      0.71      0.70      2200\n",
            "\n",
            "\n",
            "Classification Report for Naive Bayes :\n",
            "              precision    recall  f1-score   support\n",
            "\n",
            "       apple       0.54      0.59      0.56       100\n",
            "      banana       1.00      1.00      1.00       100\n",
            "   blackgram       0.70      0.75      0.72       100\n",
            "    chickpea       1.00      1.00      1.00       100\n",
            "     coconut       0.75      0.76      0.76       100\n",
            "      coffee       0.97      0.97      0.97       100\n",
            "      cotton       0.97      0.98      0.98       100\n",
            "      grapes       0.55      0.50      0.52       100\n",
            "        jute       0.60      0.75      0.67       100\n",
            " kidneybeans       0.74      0.99      0.85       100\n",
            "      lentil       0.52      0.56      0.54       100\n",
            "       maize       0.99      0.97      0.98       100\n",
            "       mango       0.77      0.80      0.78       100\n",
            "   mothbeans       0.94      0.78      0.85       100\n",
            "    mungbean       0.81      0.86      0.83       100\n",
            "   muskmelon       0.55      0.66      0.60       100\n",
            "      orange       1.00      1.00      1.00       100\n",
            "      papaya       1.00      1.00      1.00       100\n",
            "  pigeonpeas       0.66      0.43      0.52       100\n",
            " pomegranate       0.98      0.91      0.94       100\n",
            "        rice       0.68      0.52      0.59       100\n",
            "  watermelon       0.58      0.47      0.52       100\n",
            "\n",
            "    accuracy                           0.78      2200\n",
            "   macro avg       0.79      0.78      0.78      2200\n",
            "weighted avg       0.79      0.78      0.78      2200\n",
            "\n"
          ]
        }
      ]
    },
    {
      "cell_type": "code",
      "source": [
        "# Print cross-validation scores\n",
        "print(\"Cross-validation scores:\", y_pred_cv)\n",
        "print(\"Mean CV accuracy:\", y_pred_cv.mean())"
      ],
      "metadata": {
        "id": "azYd_rn0R6Tt"
      },
      "execution_count": null,
      "outputs": []
    },
    {
      "cell_type": "code",
      "source": [
        "\n",
        "# Ask farmer for the crop they want to plant\n",
        "desired_crop = input(\"Please specify the crop you want to plant: \")\n",
        "\n",
        "# Filter dataset for the specified crop\n",
        "crop_data = df2[df2['crop'] == desired_crop]\n",
        "\n",
        "# Check if any data exists for the specified crop\n",
        "if crop_data.empty:\n",
        "    print(\"Sorry, no data available for the specified crop.\")\n",
        "else:\n",
        "    # Calculate mean soil properties for the specified crop\n",
        "    mean_soil_properties = crop_data[['ph', 'N', 'P', 'K']].mean()\n",
        "\n",
        "    # Define desired thresholds for each nutrient (adjust as needed)\n",
        "    desired_thresholds = {'ph': 6.0, 'N': 50, 'P': 20, 'K': 30}\n",
        "\n",
        "    # Print recommended nutrients based on soil properties\n",
        "    print(\"\\nRecommended nutrients for planting {}:\".format(desired_crop))\n",
        "    for nutrient, value in mean_soil_properties.items():\n",
        "        if value < desired_thresholds[nutrient]:\n",
        "            print(\"- Add more\", nutrient, \"to improve soil fertility.\")"
      ],
      "metadata": {
        "id": "wM4Arqvq7ltj"
      },
      "execution_count": null,
      "outputs": []
    }
  ]
}